{
  "nbformat": 4,
  "nbformat_minor": 0,
  "metadata": {
    "colab": {
      "provenance": [],
      "authorship_tag": "ABX9TyMAAhaplWgccLED3Se/Gacl",
      "include_colab_link": true
    },
    "kernelspec": {
      "name": "python3",
      "display_name": "Python 3"
    },
    "language_info": {
      "name": "python"
    }
  },
  "cells": [
    {
      "cell_type": "markdown",
      "metadata": {
        "id": "view-in-github",
        "colab_type": "text"
      },
      "source": [
        "<a href=\"https://colab.research.google.com/github/simar0459/ASSIGNMENT-1/blob/main/assignment_1.ipynb\" target=\"_parent\"><img src=\"https://colab.research.google.com/assets/colab-badge.svg\" alt=\"Open In Colab\"/></a>"
      ]
    },
    {
      "cell_type": "markdown",
      "source": [],
      "metadata": {
        "id": "c25p4Ky5kFw5"
      }
    },
    {
      "cell_type": "markdown",
      "source": [
        "# ASSIGNMENT SOLUTIONS"
      ],
      "metadata": {
        "id": "1iKpqPWNkG7n"
      }
    },
    {
      "cell_type": "markdown",
      "source": [
        "We are going to solve an Assignment on Basics of Python\n",
        "\n"
      ],
      "metadata": {
        "id": "CRc6OGD2kMBK"
      }
    },
    {
      "cell_type": "markdown",
      "source": [
        "#Q-1) A list is defined as L=[11,12,13,14]"
      ],
      "metadata": {
        "id": "EnZ32XpFlNZX"
      }
    },
    {
      "cell_type": "markdown",
      "source": [
        "(i) WAP to add 50 and 60 to L"
      ],
      "metadata": {
        "id": "JxplY1-0mWar"
      }
    },
    {
      "cell_type": "code",
      "source": [
        "L=[11,12,13,14]\n",
        "L.append(50)\n",
        "L.append(60)\n",
        "print(L)\n"
      ],
      "metadata": {
        "colab": {
          "base_uri": "https://localhost:8080/"
        },
        "id": "NBjwuEiQmk1x",
        "outputId": "96de1c5b-1c54-4eef-8a3e-9b9a74677f9f"
      },
      "execution_count": 1,
      "outputs": [
        {
          "output_type": "stream",
          "name": "stdout",
          "text": [
            "[11, 12, 13, 14, 50, 60]\n"
          ]
        }
      ]
    },
    {
      "cell_type": "markdown",
      "source": [
        "(ii)WAP to remove 11 and 13 from L"
      ],
      "metadata": {
        "id": "Ge5WZafKmwkg"
      }
    },
    {
      "cell_type": "code",
      "source": [
        "L=[11,12,13,14]\n",
        "L.remove(11)\n",
        "L.remove(13)\n",
        "print(L)"
      ],
      "metadata": {
        "colab": {
          "base_uri": "https://localhost:8080/"
        },
        "id": "jx8BW6DlnMxv",
        "outputId": "2469b9c7-ecda-4480-fa17-1eb46374c368"
      },
      "execution_count": 2,
      "outputs": [
        {
          "output_type": "stream",
          "name": "stdout",
          "text": [
            "[12, 14]\n"
          ]
        }
      ]
    },
    {
      "cell_type": "markdown",
      "source": [
        "(iii)WAP to sort L in ascending order"
      ],
      "metadata": {
        "id": "qWL9VSx3nbTo"
      }
    },
    {
      "cell_type": "code",
      "source": [
        "L=[12,11,14,13]\n",
        "L.sort()\n",
        "print(L)"
      ],
      "metadata": {
        "colab": {
          "base_uri": "https://localhost:8080/"
        },
        "id": "i-EWorRhnhf9",
        "outputId": "52fea386-c32a-415e-a9be-dfb84198a67a"
      },
      "execution_count": 3,
      "outputs": [
        {
          "output_type": "stream",
          "name": "stdout",
          "text": [
            "[11, 12, 13, 14]\n"
          ]
        }
      ]
    },
    {
      "cell_type": "markdown",
      "source": [
        "(iv)WAP to sort L in descending order"
      ],
      "metadata": {
        "id": "upUJ5nVznsth"
      }
    },
    {
      "cell_type": "code",
      "source": [
        "L=[12,11,14,13]\n",
        "L.sort(reverse=True)\n",
        "print(L)"
      ],
      "metadata": {
        "colab": {
          "base_uri": "https://localhost:8080/"
        },
        "id": "SzgZQJ3woCMM",
        "outputId": "15c8033a-0472-4929-f7dc-ac37ae2f3445"
      },
      "execution_count": 4,
      "outputs": [
        {
          "output_type": "stream",
          "name": "stdout",
          "text": [
            "[14, 13, 12, 11]\n"
          ]
        }
      ]
    },
    {
      "cell_type": "markdown",
      "source": [
        "(v)WAP to search for 13 in L"
      ],
      "metadata": {
        "id": "t4059hwEoNP8"
      }
    },
    {
      "cell_type": "code",
      "source": [
        "L=[11,12,13,14]\n",
        "search_element=13\n",
        "if search_element in L:\n",
        "    print(f\"{search_element} found in the list L\")\n",
        "else:\n",
        "    print(f\"{search_element} not found in the list L\")\n"
      ],
      "metadata": {
        "colab": {
          "base_uri": "https://localhost:8080/"
        },
        "id": "xM_fzZMVoSwo",
        "outputId": "a1403bab-9937-4c61-ad4f-f113b21b3d21"
      },
      "execution_count": 5,
      "outputs": [
        {
          "output_type": "stream",
          "name": "stdout",
          "text": [
            "13 found in the list L\n"
          ]
        }
      ]
    },
    {
      "cell_type": "markdown",
      "source": [
        "(vi)WAP to count the no. of elements present in L"
      ],
      "metadata": {
        "id": "y4c7TmmUotrL"
      }
    },
    {
      "cell_type": "code",
      "source": [
        "L=[11,12,13,14]\n",
        "n=len(L)\n",
        "print('number of elements in L are:',n)"
      ],
      "metadata": {
        "colab": {
          "base_uri": "https://localhost:8080/"
        },
        "id": "EZ2dRRGTo95U",
        "outputId": "7dabe2a8-ed21-48d3-ac41-777a500e6405"
      },
      "execution_count": 6,
      "outputs": [
        {
          "output_type": "stream",
          "name": "stdout",
          "text": [
            "number of elements in L are: 4\n"
          ]
        }
      ]
    },
    {
      "cell_type": "markdown",
      "source": [
        "(vii)WAP to sum all elements in L"
      ],
      "metadata": {
        "id": "yALbOlIUpIFp"
      }
    },
    {
      "cell_type": "code",
      "source": [
        "L=[11,12,13,14]\n",
        "all_elements=sum(L)\n",
        "print('sum of elements in L is :',all_elements)"
      ],
      "metadata": {
        "colab": {
          "base_uri": "https://localhost:8080/"
        },
        "id": "tPnBMLK0pOJt",
        "outputId": "739f8d77-aa92-47d7-dd4d-7c71cc3ba236"
      },
      "execution_count": 7,
      "outputs": [
        {
          "output_type": "stream",
          "name": "stdout",
          "text": [
            "sum of elements in L is : 50\n"
          ]
        }
      ]
    },
    {
      "cell_type": "markdown",
      "source": [
        "(viii)WAP to sum all odd numbers in L"
      ],
      "metadata": {
        "id": "60miX7espamA"
      }
    },
    {
      "cell_type": "code",
      "source": [
        "L=[11,12,13,14]\n",
        "odd_numbers=sum( i for i in L if i%2!=0)\n",
        "print('sum of odd elements is:',odd_numbers)"
      ],
      "metadata": {
        "colab": {
          "base_uri": "https://localhost:8080/"
        },
        "id": "4irKlitApgHK",
        "outputId": "a1cc124f-bd6f-408e-8b6d-908362115c73"
      },
      "execution_count": 8,
      "outputs": [
        {
          "output_type": "stream",
          "name": "stdout",
          "text": [
            "sum of odd elements is: 24\n"
          ]
        }
      ]
    },
    {
      "cell_type": "markdown",
      "source": [
        "(ix)WAP to sum all even numbers in L"
      ],
      "metadata": {
        "id": "_r5RSbShwjaV"
      }
    },
    {
      "cell_type": "code",
      "source": [
        "L=[11,12,13,14]\n",
        "answer=sum( i for i in L if i%2==0)\n",
        "print('sum',answer)"
      ],
      "metadata": {
        "id": "W9eGEFAuwodn",
        "colab": {
          "base_uri": "https://localhost:8080/"
        },
        "outputId": "1b6ca75b-dc4f-460e-eb4f-1b9e14ee0e36"
      },
      "execution_count": 9,
      "outputs": [
        {
          "output_type": "stream",
          "name": "stdout",
          "text": [
            "sum 26\n"
          ]
        }
      ]
    },
    {
      "cell_type": "markdown",
      "source": [
        "(x)WAP to sum all prime numbers"
      ],
      "metadata": {
        "id": "AeHm2DfbxOYk"
      }
    },
    {
      "cell_type": "code",
      "source": [
        "def is_prime(n):\n",
        "    if n < 2:\n",
        "        return False\n",
        "    for i in range(2, int(n**0.5) + 1):\n",
        "        if n % i == 0:\n",
        "            return False\n",
        "    return True\n",
        "\n",
        "L=[11,13,14,12]\n",
        "prime = sum(i for i in L if is_prime(i))\n",
        "\n",
        "print(\"Sum of prime numbers is:\", prime)\n"
      ],
      "metadata": {
        "colab": {
          "base_uri": "https://localhost:8080/"
        },
        "id": "rj97u-1OxXki",
        "outputId": "c86200a3-7e02-4615-e9bf-37bc671f8a72"
      },
      "execution_count": 10,
      "outputs": [
        {
          "output_type": "stream",
          "name": "stdout",
          "text": [
            "Sum of prime numbers is: 24\n"
          ]
        }
      ]
    },
    {
      "cell_type": "markdown",
      "source": [
        "(xi)WAP to clear all the elements in L"
      ],
      "metadata": {
        "id": "2LpyUyymuWhI"
      }
    },
    {
      "cell_type": "code",
      "source": [
        "L=[11,12,13,14]\n",
        "L.clear()\n",
        "print(L)"
      ],
      "metadata": {
        "colab": {
          "base_uri": "https://localhost:8080/"
        },
        "id": "IJa2FUSHuiv6",
        "outputId": "c1b1166e-8c5d-49ed-bea5-eb9e2ae646cb"
      },
      "execution_count": 11,
      "outputs": [
        {
          "output_type": "stream",
          "name": "stdout",
          "text": [
            "[]\n"
          ]
        }
      ]
    },
    {
      "cell_type": "markdown",
      "source": [
        "(xii)WAP to delete L"
      ],
      "metadata": {
        "id": "OulmUNrXuyOJ"
      }
    },
    {
      "cell_type": "code",
      "source": [
        "L=[11,12,13,14]\n",
        "del L\n",
        "print(L)\n",
        "\n"
      ],
      "metadata": {
        "colab": {
          "base_uri": "https://localhost:8080/",
          "height": 200
        },
        "id": "7Zqp5jVLu1_E",
        "outputId": "c96d7f5c-8d29-433c-a1a0-359496638e6e"
      },
      "execution_count": 12,
      "outputs": [
        {
          "output_type": "error",
          "ename": "NameError",
          "evalue": "name 'L' is not defined",
          "traceback": [
            "\u001b[0;31m---------------------------------------------------------------------------\u001b[0m",
            "\u001b[0;31mNameError\u001b[0m                                 Traceback (most recent call last)",
            "\u001b[0;32m<ipython-input-12-3122682429>\u001b[0m in \u001b[0;36m<cell line: 0>\u001b[0;34m()\u001b[0m\n\u001b[1;32m      1\u001b[0m \u001b[0mL\u001b[0m\u001b[0;34m=\u001b[0m\u001b[0;34m[\u001b[0m\u001b[0;36m11\u001b[0m\u001b[0;34m,\u001b[0m\u001b[0;36m12\u001b[0m\u001b[0;34m,\u001b[0m\u001b[0;36m13\u001b[0m\u001b[0;34m,\u001b[0m\u001b[0;36m14\u001b[0m\u001b[0;34m]\u001b[0m\u001b[0;34m\u001b[0m\u001b[0;34m\u001b[0m\u001b[0m\n\u001b[1;32m      2\u001b[0m \u001b[0;32mdel\u001b[0m \u001b[0mL\u001b[0m\u001b[0;34m\u001b[0m\u001b[0;34m\u001b[0m\u001b[0m\n\u001b[0;32m----> 3\u001b[0;31m \u001b[0mprint\u001b[0m\u001b[0;34m(\u001b[0m\u001b[0mL\u001b[0m\u001b[0;34m)\u001b[0m\u001b[0;34m\u001b[0m\u001b[0;34m\u001b[0m\u001b[0m\n\u001b[0m\u001b[1;32m      4\u001b[0m \u001b[0;34m\u001b[0m\u001b[0m\n",
            "\u001b[0;31mNameError\u001b[0m: name 'L' is not defined"
          ]
        }
      ]
    },
    {
      "cell_type": "markdown",
      "source": [
        "here, we got an error because we can not print the linked list as it already has been deleted hence we have deleted the list L."
      ],
      "metadata": {
        "id": "C7izXTdFvAY3"
      }
    },
    {
      "cell_type": "markdown",
      "source": [
        "#Q-2 D is a dictionary defined as D={1:5.6,2:7.8,3:6.6,4:8.7,5:7.7}\n"
      ],
      "metadata": {
        "id": "DP1jiS5svMa6"
      }
    },
    {
      "cell_type": "markdown",
      "source": [
        "(i)WAP to add new entry in D,key=8 and value is 8.8"
      ],
      "metadata": {
        "id": "Bpx7Jhs1vfbL"
      }
    },
    {
      "cell_type": "code",
      "source": [
        "D={1:5.6,2:7.8,3:6.6,4:8.7,5:7.7}\n",
        "D[8]=8.8\n",
        "print(D)\n"
      ],
      "metadata": {
        "colab": {
          "base_uri": "https://localhost:8080/"
        },
        "id": "xsF9mBDivncD",
        "outputId": "815fe38a-bd87-4338-a129-3adbd15d419e"
      },
      "execution_count": 14,
      "outputs": [
        {
          "output_type": "stream",
          "name": "stdout",
          "text": [
            "{1: 5.6, 2: 7.8, 3: 6.6, 4: 8.7, 5: 7.7, 8: 8.8}\n"
          ]
        }
      ]
    },
    {
      "cell_type": "markdown",
      "source": [
        "(ii)WAP to remove key=2"
      ],
      "metadata": {
        "id": "f9WERKuLv8JV"
      }
    },
    {
      "cell_type": "code",
      "source": [
        "D={1:5.6,2:7.8,3:6.6,4:8.7,5:7.7}\n",
        "del D[2]\n",
        "print(D)"
      ],
      "metadata": {
        "colab": {
          "base_uri": "https://localhost:8080/"
        },
        "id": "j2hEMY6twA6g",
        "outputId": "836d8e02-086b-48d0-a2c4-4acf91ca547f"
      },
      "execution_count": 15,
      "outputs": [
        {
          "output_type": "stream",
          "name": "stdout",
          "text": [
            "{1: 5.6, 3: 6.6, 4: 8.7, 5: 7.7}\n"
          ]
        }
      ]
    },
    {
      "cell_type": "markdown",
      "source": [
        "(iii)WAP to check whether 6 key is present in D"
      ],
      "metadata": {
        "id": "vk2tBRpRwLD0"
      }
    },
    {
      "cell_type": "code",
      "source": [
        "D={1:5.6,2:7.8,3:6.6,4:8.7,5:7.7}\n",
        "key=6\n",
        "if key in D:\n",
        "    print(\"Key 6 is present in the dictionary.\")\n",
        "else:\n",
        "    print(\"Key 6 is not present in the dictionary.\")"
      ],
      "metadata": {
        "colab": {
          "base_uri": "https://localhost:8080/"
        },
        "id": "IpU84_FuwTYR",
        "outputId": "67123548-d718-4cba-d63b-3d62151b3ebc"
      },
      "execution_count": 16,
      "outputs": [
        {
          "output_type": "stream",
          "name": "stdout",
          "text": [
            "Key 6 is not present in the dictionary.\n"
          ]
        }
      ]
    },
    {
      "cell_type": "markdown",
      "source": [
        "(iv)WAP to count the number of elements present in D\n"
      ],
      "metadata": {
        "id": "yTFfYoPgxQiX"
      }
    },
    {
      "cell_type": "code",
      "source": [
        "D={1:5.6,2:7.8,3:6.6,4:8.7,5:7.7}\n",
        "a=len(D)\n",
        "print(a)"
      ],
      "metadata": {
        "colab": {
          "base_uri": "https://localhost:8080/"
        },
        "id": "-hWTTCcOxbW_",
        "outputId": "a90737d4-4311-4ed2-d7c3-f0477b9d874b"
      },
      "execution_count": 17,
      "outputs": [
        {
          "output_type": "stream",
          "name": "stdout",
          "text": [
            "5\n"
          ]
        }
      ]
    },
    {
      "cell_type": "markdown",
      "source": [
        "(v)WAP to add all values present in D"
      ],
      "metadata": {
        "id": "_N_XOfRkxico"
      }
    },
    {
      "cell_type": "code",
      "source": [
        "D={1:5.6,2:7.8,3:6.6,4:8.7,5:7.7}\n",
        "total = sum(D.values())\n",
        "\n",
        "print(\"Sum of all values in the dictionary:\", total)"
      ],
      "metadata": {
        "colab": {
          "base_uri": "https://localhost:8080/"
        },
        "id": "7b3KPI1SxsOf",
        "outputId": "a3755227-a246-4545-d33f-641a27540004"
      },
      "execution_count": 18,
      "outputs": [
        {
          "output_type": "stream",
          "name": "stdout",
          "text": [
            "Sum of all values in the dictionary: 36.4\n"
          ]
        }
      ]
    },
    {
      "cell_type": "markdown",
      "source": [
        "(vi)WAP to update the value of 3 to 7.1"
      ],
      "metadata": {
        "id": "NJbEPjgMx4bf"
      }
    },
    {
      "cell_type": "code",
      "source": [
        "D = {1: 5.6, 2: 7.8, 3: 6.6, 4: 8.7, 5: 7.7}\n",
        "D[3] = 7.1\n",
        "print(\"Updated dictionary:\", D)"
      ],
      "metadata": {
        "colab": {
          "base_uri": "https://localhost:8080/"
        },
        "id": "4xxzykLzx__6",
        "outputId": "34805262-70fb-486b-ac68-755cb40c5e2f"
      },
      "execution_count": 19,
      "outputs": [
        {
          "output_type": "stream",
          "name": "stdout",
          "text": [
            "Updated dictionary: {1: 5.6, 2: 7.8, 3: 7.1, 4: 8.7, 5: 7.7}\n"
          ]
        }
      ]
    },
    {
      "cell_type": "markdown",
      "source": [
        "(vii)WAP to clear the dictionary"
      ],
      "metadata": {
        "id": "MSmW2_CkyV-B"
      }
    },
    {
      "cell_type": "code",
      "source": [
        "D = {1: 5.6, 2: 7.8, 3: 7.1, 4: 8.7, 5: 7.7}\n",
        "D.clear()\n",
        "print(\"Dictionary after clearing:\", D)\n"
      ],
      "metadata": {
        "colab": {
          "base_uri": "https://localhost:8080/"
        },
        "id": "srmWJKCoyaI5",
        "outputId": "72e78111-893a-476a-e473-19b0664f3374"
      },
      "execution_count": 20,
      "outputs": [
        {
          "output_type": "stream",
          "name": "stdout",
          "text": [
            "Dictionary after clearing: {}\n"
          ]
        }
      ]
    },
    {
      "cell_type": "markdown",
      "source": [
        "##Q-3 S1=[10,20,30,40,50,60]\n",
        "##S2=[40,50,60,70,80,90]"
      ],
      "metadata": {
        "id": "25VzWJAjypwr"
      }
    },
    {
      "cell_type": "markdown",
      "source": [
        "(i) WAP to add 55 and 61 in set S1"
      ],
      "metadata": {
        "id": "Cv4UK6tny34b"
      }
    },
    {
      "cell_type": "code",
      "source": [
        "S1 = [10, 20, 30, 40, 50, 60]\n",
        "S1 = set(S1)\n",
        "S1.add(55)\n",
        "S1.add(61)\n",
        "print(S1)\n"
      ],
      "metadata": {
        "colab": {
          "base_uri": "https://localhost:8080/"
        },
        "id": "NbDW-z5pzP4A",
        "outputId": "7a9a165a-e67e-41c5-87f0-d88f92557f3c"
      },
      "execution_count": 21,
      "outputs": [
        {
          "output_type": "stream",
          "name": "stdout",
          "text": [
            "{40, 10, 50, 20, 55, 60, 61, 30}\n"
          ]
        }
      ]
    },
    {
      "cell_type": "markdown",
      "source": [
        "(ii)WAP to remove 10 and 30 from S1"
      ],
      "metadata": {
        "id": "2m-F0mZVzRcg"
      }
    },
    {
      "cell_type": "code",
      "source": [
        "S1 = {10, 20, 30, 40, 50, 60, 55, 61}\n",
        "S1.discard(10)\n",
        "S1.discard(30)\n",
        "print(S1)\n"
      ],
      "metadata": {
        "colab": {
          "base_uri": "https://localhost:8080/"
        },
        "id": "qnCq5n1fzYdX",
        "outputId": "92c575c0-d37e-45d5-f3ee-76eac6b29b8a"
      },
      "execution_count": 22,
      "outputs": [
        {
          "output_type": "stream",
          "name": "stdout",
          "text": [
            "{40, 50, 20, 55, 60, 61}\n"
          ]
        }
      ]
    },
    {
      "cell_type": "markdown",
      "source": [
        "(iii)WAP to check whether 40 is present ib S1"
      ],
      "metadata": {
        "id": "gk2uGF0hzcxm"
      }
    },
    {
      "cell_type": "code",
      "source": [
        "S1 = {20, 40, 50, 60, 55, 61}\n",
        "if 40 in S1:\n",
        "    print(\"40 is present in S1\")\n",
        "else:\n",
        "    print(\"40 is not present in S1\")\n"
      ],
      "metadata": {
        "colab": {
          "base_uri": "https://localhost:8080/"
        },
        "id": "UF5nxYq60CPe",
        "outputId": "b7195c75-d562-4d95-de98-d43f84d7d9b5"
      },
      "execution_count": 23,
      "outputs": [
        {
          "output_type": "stream",
          "name": "stdout",
          "text": [
            "40 is present in S1\n"
          ]
        }
      ]
    },
    {
      "cell_type": "markdown",
      "source": [
        "(iv)WAP to find the union between S1 and S2"
      ],
      "metadata": {
        "id": "TY_prlCh0DZp"
      }
    },
    {
      "cell_type": "code",
      "source": [
        "S1 = {10, 20, 30, 40, 50, 60}\n",
        "S2 = {40, 50, 60, 70, 80, 90}\n",
        "union_set = S1.union(S2)\n",
        "print(union_set)\n"
      ],
      "metadata": {
        "colab": {
          "base_uri": "https://localhost:8080/"
        },
        "id": "cwFpSVyb0Mh2",
        "outputId": "1506cd3d-f2d8-4671-8067-84652f74ec50"
      },
      "execution_count": 24,
      "outputs": [
        {
          "output_type": "stream",
          "name": "stdout",
          "text": [
            "{70, 40, 10, 80, 50, 20, 90, 60, 30}\n"
          ]
        }
      ]
    },
    {
      "cell_type": "markdown",
      "source": [
        "(v)WAP to find the intersection between S1 and S2"
      ],
      "metadata": {
        "id": "1B3Ou7zJ0Rdg"
      }
    },
    {
      "cell_type": "code",
      "source": [
        "S1 = {10, 20, 30, 40, 50, 60}\n",
        "S2 = {40, 50, 60, 70, 80, 90}\n",
        "intersection_set = S1.intersection(S2)\n",
        "print(intersection_set)\n"
      ],
      "metadata": {
        "colab": {
          "base_uri": "https://localhost:8080/"
        },
        "id": "ZDdKAxrn0XlX",
        "outputId": "c895cfbe-6385-46cc-bfc6-9471f88d14cf"
      },
      "execution_count": 25,
      "outputs": [
        {
          "output_type": "stream",
          "name": "stdout",
          "text": [
            "{40, 50, 60}\n"
          ]
        }
      ]
    },
    {
      "cell_type": "markdown",
      "source": [
        "(vi)WAP to  find S1-S2"
      ],
      "metadata": {
        "id": "mVmpkH7w0cYc"
      }
    },
    {
      "cell_type": "code",
      "source": [
        "S1 = {10, 20, 30, 40, 50, 60}\n",
        "S2 = {40, 50, 60, 70, 80, 90}\n",
        "difference_set = S1 - S2\n",
        "print(difference_set)\n"
      ],
      "metadata": {
        "colab": {
          "base_uri": "https://localhost:8080/"
        },
        "id": "DjzV8OWI0mVH",
        "outputId": "976f181d-1dd6-4634-927e-1bc40321cda9"
      },
      "execution_count": 26,
      "outputs": [
        {
          "output_type": "stream",
          "name": "stdout",
          "text": [
            "{10, 20, 30}\n"
          ]
        }
      ]
    },
    {
      "cell_type": "markdown",
      "source": [
        "##Q-4 write the following programs"
      ],
      "metadata": {
        "id": "BdVYLgDm0n11"
      }
    },
    {
      "cell_type": "markdown",
      "source": [
        "(i)WAP to print 100 random strings whose length between 6 and 8"
      ],
      "metadata": {
        "id": "B8iw5-Nb0tXv"
      }
    },
    {
      "cell_type": "code",
      "source": [
        "import random\n",
        "import string\n",
        "\n",
        "for i in range(100):\n",
        "    length = random.randint(6, 8)\n",
        "    rand_str = ''.join(random.choices(string.ascii_letters + string.digits, k=length))\n",
        "    print(rand_str)\n"
      ],
      "metadata": {
        "colab": {
          "base_uri": "https://localhost:8080/"
        },
        "id": "5YB23krt1BNg",
        "outputId": "c7861893-b55d-462d-e0c2-1e7d6b66322b"
      },
      "execution_count": 27,
      "outputs": [
        {
          "output_type": "stream",
          "name": "stdout",
          "text": [
            "QNzEfb\n",
            "lTp0Wd4T\n",
            "o4UeS53\n",
            "fwh8kBUl\n",
            "eKpY7ov\n",
            "rhNY7X\n",
            "gFsdG8\n",
            "p7ptQK\n",
            "W1NmiOye\n",
            "N0DwnW9B\n",
            "PWoj3K\n",
            "kiirym\n",
            "tywgKV\n",
            "dolBDP3\n",
            "H2fVd7a\n",
            "ySUOza\n",
            "sgeIAq9T\n",
            "uZKgGw4\n",
            "eloNnjZ\n",
            "cFz2hH\n",
            "VByTyw\n",
            "Ze1iHO\n",
            "eiCch1X\n",
            "kgmXy6tF\n",
            "bpaaTnN\n",
            "coKicCOL\n",
            "oVBd8m\n",
            "bh0SNYq\n",
            "ZTuqya\n",
            "Nwd4DI\n",
            "VbLRFI\n",
            "YP2P9r\n",
            "Z3Hqy4Zk\n",
            "EzU3S24g\n",
            "GBDD6pI\n",
            "9sG04ST\n",
            "zqZdqDTF\n",
            "SRbQuPP\n",
            "wZUg2tfs\n",
            "5PcPSRAA\n",
            "mAbRe9Mq\n",
            "kZU4es\n",
            "Bv3VELeT\n",
            "WQy0S4Sl\n",
            "VkfQhcgS\n",
            "a1OBmj\n",
            "gPVsYq\n",
            "GAM61o\n",
            "wFqXpt8m\n",
            "wWotxZc\n",
            "8hXCL8o\n",
            "BO0HAd\n",
            "Ep6RHfE\n",
            "JShh9GbQ\n",
            "jpN1iqwu\n",
            "i3oJLv\n",
            "6lRrkAQ\n",
            "d6RLrTc\n",
            "Ro3O9GuS\n",
            "6q7DZrRV\n",
            "JGEakz\n",
            "PK4A41u\n",
            "BrojzT\n",
            "TcjPJrX\n",
            "TNdNHcOn\n",
            "dxAReKw0\n",
            "JOuOcNh2\n",
            "O4eOrgdk\n",
            "2rLiSDZU\n",
            "h3mVfq\n",
            "dQuX9i\n",
            "uelapw\n",
            "8vcjZl7s\n",
            "xd8wuJN\n",
            "AOkL2tU\n",
            "PZKxWW\n",
            "T5SHML1\n",
            "WlG61HSO\n",
            "i0gBmg9\n",
            "QRQOYxm\n",
            "BpRv0M\n",
            "lkZGy6Bp\n",
            "XM4iCoq\n",
            "zQPTC5Xn\n",
            "CCrOmH\n",
            "FG0OlT0\n",
            "bcn907DA\n",
            "I0RZWojR\n",
            "e1EuMo3\n",
            "95byYSN\n",
            "aJ22By\n",
            "d3BsRppY\n",
            "rSknqL\n",
            "tRXMbTG1\n",
            "OvhczC\n",
            "yNjUkBOt\n",
            "DsaJe6n\n",
            "M5bpFwpn\n",
            "ApA2DqQ\n",
            "IDQySHSD\n"
          ]
        }
      ]
    },
    {
      "cell_type": "markdown",
      "source": [
        "(ii)WAP to print all prime numbers between 600 and 800"
      ],
      "metadata": {
        "id": "ZBTvyr-k1Eln"
      }
    },
    {
      "cell_type": "code",
      "source": [
        "for num in range(600, 801):\n",
        "    if num > 1:\n",
        "        for i in range(2, int(num**0.5) + 1):\n",
        "            if num % i == 0:\n",
        "                break\n",
        "        else:\n",
        "            print(num)\n"
      ],
      "metadata": {
        "colab": {
          "base_uri": "https://localhost:8080/"
        },
        "id": "xyEbju4b1R2_",
        "outputId": "2245c961-34e9-45a8-c7db-29e4e024ae8a"
      },
      "execution_count": 28,
      "outputs": [
        {
          "output_type": "stream",
          "name": "stdout",
          "text": [
            "601\n",
            "607\n",
            "613\n",
            "617\n",
            "619\n",
            "631\n",
            "641\n",
            "643\n",
            "647\n",
            "653\n",
            "659\n",
            "661\n",
            "673\n",
            "677\n",
            "683\n",
            "691\n",
            "701\n",
            "709\n",
            "719\n",
            "727\n",
            "733\n",
            "739\n",
            "743\n",
            "751\n",
            "757\n",
            "761\n",
            "769\n",
            "773\n",
            "787\n",
            "797\n"
          ]
        }
      ]
    },
    {
      "cell_type": "markdown",
      "source": [
        "(iii)WAP to print all numbers between 100 and 1000 that are divisible by 7 and 9"
      ],
      "metadata": {
        "id": "wARyHiOh1TTk"
      }
    },
    {
      "cell_type": "code",
      "source": [
        "for num in range(100, 1001):\n",
        "    if num % 7 == 0 and num % 9 == 0:\n",
        "        print(num)\n"
      ],
      "metadata": {
        "colab": {
          "base_uri": "https://localhost:8080/"
        },
        "id": "NckhQiQ91bt1",
        "outputId": "dbb3d880-5698-4a43-cec0-b12a3e2fb9d8"
      },
      "execution_count": 29,
      "outputs": [
        {
          "output_type": "stream",
          "name": "stdout",
          "text": [
            "126\n",
            "189\n",
            "252\n",
            "315\n",
            "378\n",
            "441\n",
            "504\n",
            "567\n",
            "630\n",
            "693\n",
            "756\n",
            "819\n",
            "882\n",
            "945\n"
          ]
        }
      ]
    },
    {
      "cell_type": "markdown",
      "source": [
        "## Q-5 WAP to create two list of 10 random numbers between 10 and 30"
      ],
      "metadata": {
        "id": "zxl09Lt01iDQ"
      }
    },
    {
      "cell_type": "markdown",
      "source": [
        "(i) Common numbers in the two list"
      ],
      "metadata": {
        "id": "GZP8wmyn1ySP"
      }
    },
    {
      "cell_type": "code",
      "source": [
        "import random\n",
        "\n",
        "list1 = [random.randint(10, 30) for i in range(10)]\n",
        "list2 = [random.randint(10, 30) for i in range(10)]\n",
        "\n",
        "common = list(set(list1) & set(list2))\n",
        "\n",
        "print(\"List 1:\", list1)\n",
        "print(\"List 2:\", list2)\n",
        "print(\"Common elements:\", common)\n"
      ],
      "metadata": {
        "colab": {
          "base_uri": "https://localhost:8080/"
        },
        "id": "hq40ajJn2OSA",
        "outputId": "5a7fa648-9a1c-4665-a4ad-bfb07f51aead"
      },
      "execution_count": 30,
      "outputs": [
        {
          "output_type": "stream",
          "name": "stdout",
          "text": [
            "List 1: [29, 26, 25, 23, 29, 14, 28, 16, 11, 16]\n",
            "List 2: [28, 13, 27, 26, 29, 12, 19, 28, 17, 20]\n",
            "Common elements: [26, 28, 29]\n"
          ]
        }
      ]
    },
    {
      "cell_type": "markdown",
      "source": [
        "(ii) Unique numbers in both the list"
      ],
      "metadata": {
        "id": "oX2t9o_X2SCu"
      }
    },
    {
      "cell_type": "code",
      "source": [
        "import random\n",
        "\n",
        "list1 = [random.randint(10, 30) for _ in range(10)]\n",
        "list2 = [random.randint(10, 30) for _ in range(10)]\n",
        "\n",
        "unique = list(set(list1) ^ set(list2))\n",
        "\n",
        "print(\"List 1:\", list1)\n",
        "print(\"List 2:\", list2)\n",
        "print(\"Unique elements in both lists:\", unique)\n"
      ],
      "metadata": {
        "colab": {
          "base_uri": "https://localhost:8080/"
        },
        "id": "PDpaHvoK2dMu",
        "outputId": "e282bcd1-af86-4762-df57-e1b76b20adf0"
      },
      "execution_count": 31,
      "outputs": [
        {
          "output_type": "stream",
          "name": "stdout",
          "text": [
            "List 1: [29, 29, 19, 11, 22, 30, 19, 12, 17, 30]\n",
            "List 2: [16, 20, 22, 21, 29, 17, 11, 12, 10, 14]\n",
            "Unique elements in both lists: [10, 14, 16, 19, 20, 21, 30]\n"
          ]
        }
      ]
    },
    {
      "cell_type": "markdown",
      "source": [
        "(iii)Minimum in both the list"
      ],
      "metadata": {
        "id": "9sAWqlB_2eeI"
      }
    },
    {
      "cell_type": "code",
      "source": [
        "import random\n",
        "\n",
        "list1 = [random.randint(10, 30) for _ in range(10)]\n",
        "list2 = [random.randint(10, 30) for _ in range(10)]\n",
        "\n",
        "min1 = min(list1)\n",
        "min2 = min(list2)\n",
        "\n",
        "print(\"List 1:\", list1)\n",
        "print(\"List 2:\", list2)\n",
        "print(\"Minimum in List 1:\", min1)\n",
        "print(\"Minimum in List 2:\", min2)\n"
      ],
      "metadata": {
        "colab": {
          "base_uri": "https://localhost:8080/"
        },
        "id": "HsgQIkUZ2ny2",
        "outputId": "09e274db-014f-4c45-ed07-976dbf683b0c"
      },
      "execution_count": 32,
      "outputs": [
        {
          "output_type": "stream",
          "name": "stdout",
          "text": [
            "List 1: [16, 10, 12, 24, 11, 10, 29, 16, 27, 30]\n",
            "List 2: [13, 30, 22, 19, 28, 19, 12, 18, 13, 11]\n",
            "Minimum in List 1: 10\n",
            "Minimum in List 2: 11\n"
          ]
        }
      ]
    },
    {
      "cell_type": "markdown",
      "source": [
        "(iv)Maximum in both lists"
      ],
      "metadata": {
        "id": "8c2ZGzCn2pb4"
      }
    },
    {
      "cell_type": "code",
      "source": [
        "import random\n",
        "\n",
        "list1 = [random.randint(10, 30) for _ in range(10)]\n",
        "list2 = [random.randint(10, 30) for _ in range(10)]\n",
        "\n",
        "max1 = max(list1)\n",
        "max2 = max(list2)\n",
        "\n",
        "print(\"List 1:\", list1)\n",
        "print(\"List 2:\", list2)\n",
        "print(\"Maximum in List 1:\", max1)\n",
        "print(\"Maximum in List 2:\", max2)\n"
      ],
      "metadata": {
        "colab": {
          "base_uri": "https://localhost:8080/"
        },
        "id": "ZtiUKpqz2wMr",
        "outputId": "a0cb30af-770c-428f-e430-2fc85e86025b"
      },
      "execution_count": 33,
      "outputs": [
        {
          "output_type": "stream",
          "name": "stdout",
          "text": [
            "List 1: [27, 14, 28, 26, 19, 12, 26, 24, 13, 28]\n",
            "List 2: [24, 23, 12, 14, 19, 29, 22, 27, 13, 11]\n",
            "Maximum in List 1: 28\n",
            "Maximum in List 2: 29\n"
          ]
        }
      ]
    },
    {
      "cell_type": "markdown",
      "source": [
        "(v)sum of both the list"
      ],
      "metadata": {
        "id": "rVkF2fdV2zZe"
      }
    },
    {
      "cell_type": "code",
      "source": [
        "import random\n",
        "\n",
        "list1 = [random.randint(10, 30) for _ in range(10)]\n",
        "list2 = [random.randint(10, 30) for _ in range(10)]\n",
        "\n",
        "sum1 = sum(list1)\n",
        "sum2 = sum(list2)\n",
        "\n",
        "print(\"List 1:\", list1)\n",
        "print(\"List 2:\", list2)\n",
        "print(\"Sum of List 1:\", sum1)\n",
        "print(\"Sum of List 2:\", sum2)\n"
      ],
      "metadata": {
        "colab": {
          "base_uri": "https://localhost:8080/"
        },
        "id": "CRLTCYEW27EY",
        "outputId": "b7602b17-cd5c-4696-c0fa-77ac7d150315"
      },
      "execution_count": 34,
      "outputs": [
        {
          "output_type": "stream",
          "name": "stdout",
          "text": [
            "List 1: [23, 11, 11, 26, 26, 10, 17, 10, 24, 15]\n",
            "List 2: [25, 10, 18, 28, 17, 14, 30, 14, 24, 19]\n",
            "Sum of List 1: 173\n",
            "Sum of List 2: 199\n"
          ]
        }
      ]
    },
    {
      "cell_type": "markdown",
      "source": [
        "##Q-6 WAP to create a list of 100 random numbers between 100 and 900, count and print the:"
      ],
      "metadata": {
        "id": "mgAms5Xv28cY"
      }
    },
    {
      "cell_type": "markdown",
      "source": [
        "(i)All odd numbers"
      ],
      "metadata": {
        "id": "2h1xFzbM3Jdq"
      }
    },
    {
      "cell_type": "code",
      "source": [
        "import random\n",
        "\n",
        "numbers = [random.randint(100, 900) for i in range(100)]\n",
        "odd_numbers = [num for num in numbers if num % 2 != 0]\n",
        "\n",
        "print(\"Odd numbers:\", odd_numbers)\n",
        "print(\"Count of odd numbers:\", len(odd_numbers))\n"
      ],
      "metadata": {
        "colab": {
          "base_uri": "https://localhost:8080/"
        },
        "id": "LfRdikVe3Sn3",
        "outputId": "74430993-b6c6-4bc1-ddd2-f05a5819be29"
      },
      "execution_count": 36,
      "outputs": [
        {
          "output_type": "stream",
          "name": "stdout",
          "text": [
            "Odd numbers: [877, 183, 629, 479, 297, 363, 483, 151, 265, 441, 475, 443, 711, 335, 531, 105, 383, 669, 723, 713, 345, 853, 631, 393, 885, 383, 127, 747, 355, 837, 717, 279, 159, 643, 459, 643, 439, 655, 501, 437, 289, 361, 183, 847, 505, 585, 565, 771, 801, 639]\n",
            "Count of odd numbers: 50\n"
          ]
        }
      ]
    },
    {
      "cell_type": "markdown",
      "source": [
        "(ii)all even numbers"
      ],
      "metadata": {
        "id": "o4u2oWQo3Wyl"
      }
    },
    {
      "cell_type": "code",
      "source": [
        "import random\n",
        "\n",
        "numbers = [random.randint(100, 900) for _ in range(100)]\n",
        "even_numbers = [num for num in numbers if num % 2 == 0]\n",
        "\n",
        "print(\"Even numbers:\", even_numbers)\n",
        "print(\"Count of even numbers:\", len(even_numbers))\n"
      ],
      "metadata": {
        "colab": {
          "base_uri": "https://localhost:8080/"
        },
        "id": "NLtv--Tb3ZPv",
        "outputId": "2f3c8cf9-286b-4447-d9c6-af121cb0e170"
      },
      "execution_count": 37,
      "outputs": [
        {
          "output_type": "stream",
          "name": "stdout",
          "text": [
            "Even numbers: [838, 676, 502, 604, 506, 350, 812, 592, 178, 872, 554, 634, 770, 880, 494, 608, 784, 508, 424, 256, 256, 274, 412, 192, 878, 748, 744, 180, 830, 780, 562, 482, 456, 664, 662, 566, 356, 752, 540, 540, 894, 204, 372, 852, 398, 736, 766, 526, 776]\n",
            "Count of even numbers: 49\n"
          ]
        }
      ]
    },
    {
      "cell_type": "markdown",
      "source": [
        "(iii)all prime numbers"
      ],
      "metadata": {
        "id": "TieZVWoy3c2v"
      }
    },
    {
      "cell_type": "code",
      "source": [
        "import random\n",
        "\n",
        "def is_prime(n):\n",
        "    if n < 2:\n",
        "        return False\n",
        "    for i in range(2, int(n**0.5) + 1):\n",
        "        if n % i == 0:\n",
        "            return False\n",
        "    return True\n",
        "\n",
        "numbers = [random.randint(100, 900) for i in range(100)]\n",
        "prime_numbers = [num for num in numbers if is_prime(num)]\n",
        "\n",
        "print(\"Prime numbers:\", prime_numbers)\n",
        "print(\"Count of prime numbers:\", len(prime_numbers))\n"
      ],
      "metadata": {
        "colab": {
          "base_uri": "https://localhost:8080/"
        },
        "id": "V2HitrSC3gj7",
        "outputId": "bc493e6a-f109-4e07-9aab-654a5eec7d6a"
      },
      "execution_count": 39,
      "outputs": [
        {
          "output_type": "stream",
          "name": "stdout",
          "text": [
            "Prime numbers: [739, 743, 389, 523, 373, 337, 107, 317, 601, 773, 509, 503, 107, 331, 887, 311]\n",
            "Count of prime numbers: 16\n"
          ]
        }
      ]
    },
    {
      "cell_type": "markdown",
      "source": [
        "##Q-7 D is a dictionary D={1:\"one\",2:\"two\",3:\"three\",4:\"four\",5:\"five\"}\n",
        "WAP to read all the keys and values from dictionary and write to the file in the given below format\n",
        "key1,value1\n",
        "key2,value2\n",
        "key3,value3"
      ],
      "metadata": {
        "id": "eGfJKpXv3qqY"
      }
    },
    {
      "cell_type": "code",
      "source": [
        "D = {1: \"one\", 2: \"two\", 3: \"three\", 4: \"four\", 5: \"five\"}\n",
        "\n",
        "with open(\"abcd.txt\", \"w\") as file:\n",
        "    for key, value in D.items():\n",
        "        file.write(f\"key{key},{value}\\n\")\n"
      ],
      "metadata": {
        "id": "N0bEwYdT4ju1"
      },
      "execution_count": 41,
      "outputs": []
    },
    {
      "cell_type": "markdown",
      "source": [
        "##Q-8 L is a list defined as L={\"one\",\"two\",\"three\",\"four\",\"five\"}\n",
        "WAP to count the length of reach element from a list and write to the file in the given below format:\n",
        "one,3\n",
        "two,3\n",
        "four,4"
      ],
      "metadata": {
        "id": "obt9-N-G4sZF"
      }
    },
    {
      "cell_type": "code",
      "source": [
        "L = [\"one\", \"two\", \"three\", \"four\", \"five\"]\n",
        "\n",
        "with open(\"abc.txt\", \"w\") as file:\n",
        "    for item in L:\n",
        "        file.write(f\"{item},{len(item)}\\n\")\n"
      ],
      "metadata": {
        "id": "c68vIcmC5NRz"
      },
      "execution_count": 42,
      "outputs": []
    },
    {
      "cell_type": "markdown",
      "source": [
        "##Q-9 Write to the file 100 random strings whose length between 10 and 15"
      ],
      "metadata": {
        "id": "hhA_9IMN5Wbx"
      }
    },
    {
      "cell_type": "code",
      "source": [
        "import random\n",
        "import string\n",
        "\n",
        "with open(\"abc.txt\", \"w\") as file:\n",
        "    for _ in range(100):\n",
        "        length = random.randint(10, 15)\n",
        "        rand_str = ''.join(random.choices(string.ascii_letters + string.digits, k=length))\n",
        "        file.write(rand_str + \"\\n\")\n"
      ],
      "metadata": {
        "id": "sFhB-E7t5kWB"
      },
      "execution_count": 43,
      "outputs": []
    },
    {
      "cell_type": "markdown",
      "source": [
        "##Q-10 Write to the file all prime numbers between 600 and 800"
      ],
      "metadata": {
        "id": "You4jrgb5oYI"
      }
    },
    {
      "cell_type": "code",
      "source": [
        "def is_prime(n):\n",
        "    if n < 2:\n",
        "        return False\n",
        "    for i in range(2, int(n**0.5) + 1):\n",
        "        if n % i == 0:\n",
        "            return False\n",
        "    return True\n",
        "\n",
        "with open(\"prime_numbers.txt\", \"w\") as file:\n",
        "    for num in range(600, 801):\n",
        "        if is_prime(num):\n",
        "            file.write(str(num) + \"\\n\")\n"
      ],
      "metadata": {
        "id": "NjTO0zZp51Ca"
      },
      "execution_count": 44,
      "outputs": []
    },
    {
      "cell_type": "markdown",
      "source": [
        "##Q-11 WAP to calculate time taken by a program"
      ],
      "metadata": {
        "id": "kY7wfGQS53Ph"
      }
    },
    {
      "cell_type": "code",
      "source": [
        "import time\n",
        "start = time.time()\n",
        "for i in range(1000000):\n",
        "    pass\n",
        "end = time.time()\n",
        "print(end - start, \"seconds\")\n"
      ],
      "metadata": {
        "colab": {
          "base_uri": "https://localhost:8080/"
        },
        "id": "OMM81pov6Jn5",
        "outputId": "2fc77db4-8c96-43bd-c43a-c9f81d3dc6f0"
      },
      "execution_count": 45,
      "outputs": [
        {
          "output_type": "stream",
          "name": "stdout",
          "text": [
            "0.043706417083740234 seconds\n"
          ]
        }
      ]
    },
    {
      "cell_type": "markdown",
      "source": [
        "##Q-13 WAP to create a dictionary of student marks in five subjects and you have to find the student having maximum and minimum average marks"
      ],
      "metadata": {
        "id": "CNpxhWXz6NvF"
      }
    },
    {
      "cell_type": "code",
      "source": [
        "students = {\n",
        "    \"ram\": [78, 85, 90, 82, 88],\n",
        "    \"aman\": [67, 72, 70, 60, 65],\n",
        "    \"shyam\": [90, 92, 95, 94, 91],\n",
        "    \"karam\": [55, 60, 58, 62, 57],\n",
        "    \"binny\": [80, 83, 85, 81, 79]\n",
        "}\n",
        "\n",
        "averages = {name: sum(marks)/len(marks) for name, marks in students.items()}\n",
        "\n",
        "max_student = max(averages, key=averages.get)\n",
        "min_student = min(averages, key=averages.get)\n",
        "\n",
        "print(\"Student with max average:\", max_student, averages[max_student])\n",
        "print(\"Student with min average:\", min_student, averages[min_student])\n"
      ],
      "metadata": {
        "colab": {
          "base_uri": "https://localhost:8080/"
        },
        "id": "wmzoQeG36n0k",
        "outputId": "fc125e33-0834-4cfa-cbc4-13db9f209400"
      },
      "execution_count": 46,
      "outputs": [
        {
          "output_type": "stream",
          "name": "stdout",
          "text": [
            "Student with max average: shyam 92.4\n",
            "Student with min average: karam 58.4\n"
          ]
        }
      ]
    }
  ]
}